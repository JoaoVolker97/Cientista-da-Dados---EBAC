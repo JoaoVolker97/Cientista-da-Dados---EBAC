{
 "cells": [
  {
   "cell_type": "markdown",
   "metadata": {},
   "source": [
    "# Briefing"
   ]
  },
  {
   "cell_type": "markdown",
   "metadata": {},
   "source": [
    "O tema que escolho é o estudo sobre a energia das ondas. Em um planeta onde a demanda por recursos energéticos limpos é cada vez maior, faz-se necessário explorar mais as diferentes fontes de energia que temos conhecimento. é um tema muito pessoal pois já o utilizei em meu trabalho de conclusão do curso de Engenharia Mecânica em 2023, mas acho um assunto de extrema relevância e que ainda tem muito a ser explorado.\n"
   ]
  },
  {
   "cell_type": "markdown",
   "metadata": {},
   "source": [
    "Quando trabalhado anteriormente em meu TCC, fiz toda parte de coleta, tratamento e análise dos dados de forma muito manual e utilizando a linguagem Matlab. Hoje, vejo que posso obter resultados melhores com o uso da linguagem python em análise de dados e machine learning. "
   ]
  },
  {
   "cell_type": "markdown",
   "metadata": {},
   "source": [
    "Como sugeri ao final do trabalho, o código pode ser implementado para analisar qualquer base de dados em diferentes regiões do Brasil, o que não foi possível na época"
   ]
  },
  {
   "cell_type": "markdown",
   "metadata": {},
   "source": [
    "Link para acessar o trabalho: https://lume.ufrgs.br/handle/10183/251696"
   ]
  }
 ],
 "metadata": {
  "kernelspec": {
   "display_name": "Python 3",
   "language": "python",
   "name": "python3"
  },
  "language_info": {
   "codemirror_mode": {
    "name": "ipython",
    "version": 3
   },
   "file_extension": ".py",
   "mimetype": "text/x-python",
   "name": "python",
   "nbconvert_exporter": "python",
   "pygments_lexer": "ipython3",
   "version": "3.11.4"
  }
 },
 "nbformat": 4,
 "nbformat_minor": 2
}
